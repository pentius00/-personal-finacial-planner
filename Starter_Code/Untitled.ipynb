{
 "cells": [
  {
   "cell_type": "code",
   "execution_count": 10,
   "id": "2763411f",
   "metadata": {},
   "outputs": [
    {
     "ename": "SyntaxError",
     "evalue": "invalid syntax (Temp/ipykernel_15548/3002754342.py, line 6)",
     "output_type": "error",
     "traceback": [
      "\u001b[1;36m  File \u001b[1;32m\"C:\\Users\\penti\\AppData\\Local\\Temp/ipykernel_15548/3002754342.py\"\u001b[1;36m, line \u001b[1;32m6\u001b[0m\n\u001b[1;33m    tickers,\u001b[0m\n\u001b[1;37m          ^\u001b[0m\n\u001b[1;31mSyntaxError\u001b[0m\u001b[1;31m:\u001b[0m invalid syntax\n"
     ]
    }
   ],
   "source": []
  },
  {
   "cell_type": "code",
   "execution_count": 8,
   "id": "f357b385",
   "metadata": {},
   "outputs": [
    {
     "ename": "NameError",
     "evalue": "name 'second_request' is not defined",
     "output_type": "error",
     "traceback": [
      "\u001b[1;31m---------------------------------------------------------------------------\u001b[0m",
      "\u001b[1;31mNameError\u001b[0m                                 Traceback (most recent call last)",
      "\u001b[1;32m~\\AppData\\Local\\Temp/ipykernel_15548/3443819923.py\u001b[0m in \u001b[0;36m<module>\u001b[1;34m\u001b[0m\n\u001b[1;32m----> 1\u001b[1;33m \u001b[0meth_df\u001b[0m \u001b[1;33m=\u001b[0m \u001b[0mpd\u001b[0m\u001b[1;33m.\u001b[0m\u001b[0mjson_normalize\u001b[0m\u001b[1;33m(\u001b[0m\u001b[0msecond_request\u001b[0m\u001b[1;33m)\u001b[0m\u001b[1;33m\u001b[0m\u001b[1;33m\u001b[0m\u001b[0m\n\u001b[0m\u001b[0;32m      2\u001b[0m \u001b[0meth_df\u001b[0m \u001b[1;33m=\u001b[0m \u001b[0mpd\u001b[0m\u001b[1;33m.\u001b[0m\u001b[0mDataFrame\u001b[0m\u001b[1;33m(\u001b[0m\u001b[0meth_df\u001b[0m\u001b[1;33m)\u001b[0m\u001b[1;33m\u001b[0m\u001b[1;33m\u001b[0m\u001b[0m\n\u001b[0;32m      3\u001b[0m \u001b[0meth_df\u001b[0m \u001b[1;33m=\u001b[0m \u001b[0meth_df\u001b[0m\u001b[1;33m.\u001b[0m\u001b[0mdrop\u001b[0m\u001b[1;33m(\u001b[0m\u001b[0mcolumns\u001b[0m\u001b[1;33m=\u001b[0m\u001b[1;33m[\u001b[0m\u001b[1;34m'data.1027.id'\u001b[0m\u001b[1;33m,\u001b[0m \u001b[1;34m'data.1027.name'\u001b[0m\u001b[1;33m,\u001b[0m \u001b[1;34m'data.1027.website_slug'\u001b[0m\u001b[1;33m,\u001b[0m \u001b[1;34m'data.1027.circulating_supply'\u001b[0m\u001b[1;33m,\u001b[0m \u001b[1;34m'data.1027.max_supply'\u001b[0m\u001b[1;33m]\u001b[0m\u001b[1;33m)\u001b[0m\u001b[1;33m\u001b[0m\u001b[1;33m\u001b[0m\u001b[0m\n\u001b[0;32m      4\u001b[0m \u001b[1;31m#eth_df = eth_df.loc[eth_df['symbol', 'quotes']\u001b[0m\u001b[1;33m\u001b[0m\u001b[1;33m\u001b[0m\u001b[1;33m\u001b[0m\u001b[0m\n",
      "\u001b[1;31mNameError\u001b[0m: name 'second_request' is not defined"
     ]
    }
   ],
   "source": [
    "eth_df = pd.json_normalize(second_request)\n",
    "eth_df = pd.DataFrame(eth_df)\n",
    "eth_df = eth_df.drop(columns=['data.1027.id', 'data.1027.name', 'data.1027.website_slug', 'data.1027.circulating_supply', 'data.1027.max_supply'])\n",
    "#eth_df = eth_df.loc[eth_df['symbol', 'quotes']"
   ]
  },
  {
   "cell_type": "code",
   "execution_count": 42,
   "id": "7c19f0f6",
   "metadata": {},
   "outputs": [
    {
     "data": {
      "text/html": [
       "<div>\n",
       "<style scoped>\n",
       "    .dataframe tbody tr th:only-of-type {\n",
       "        vertical-align: middle;\n",
       "    }\n",
       "\n",
       "    .dataframe tbody tr th {\n",
       "        vertical-align: top;\n",
       "    }\n",
       "\n",
       "    .dataframe thead th {\n",
       "        text-align: right;\n",
       "    }\n",
       "</style>\n",
       "<table border=\"1\" class=\"dataframe\">\n",
       "  <thead>\n",
       "    <tr style=\"text-align: right;\">\n",
       "      <th></th>\n",
       "      <th>data.1027.symbol</th>\n",
       "      <th>data.1027.rank</th>\n",
       "      <th>data.1027.total_supply</th>\n",
       "      <th>data.1027.quotes.USD.price</th>\n",
       "      <th>data.1027.quotes.USD.volume_24h</th>\n",
       "      <th>data.1027.quotes.USD.market_cap</th>\n",
       "      <th>data.1027.quotes.USD.percentage_change_1h</th>\n",
       "      <th>data.1027.quotes.USD.percentage_change_24h</th>\n",
       "      <th>data.1027.quotes.USD.percentage_change_7d</th>\n",
       "      <th>data.1027.quotes.USD.percent_change_1h</th>\n",
       "      <th>data.1027.quotes.USD.percent_change_24h</th>\n",
       "      <th>data.1027.quotes.USD.percent_change_7d</th>\n",
       "      <th>data.1027.last_updated</th>\n",
       "      <th>metadata.timestamp</th>\n",
       "      <th>metadata.num_cryptocurrencies</th>\n",
       "      <th>metadata.error</th>\n",
       "    </tr>\n",
       "  </thead>\n",
       "  <tbody>\n",
       "    <tr>\n",
       "      <th>0</th>\n",
       "      <td>ETH</td>\n",
       "      <td>2</td>\n",
       "      <td>119176482</td>\n",
       "      <td>3334.65</td>\n",
       "      <td>8538604089</td>\n",
       "      <td>397096653751</td>\n",
       "      <td>0.039744</td>\n",
       "      <td>0.570926</td>\n",
       "      <td>7.533248</td>\n",
       "      <td>0.039744</td>\n",
       "      <td>0.570926</td>\n",
       "      <td>7.533248</td>\n",
       "      <td>1642293383</td>\n",
       "      <td>1642293383</td>\n",
       "      <td>3105</td>\n",
       "      <td>None</td>\n",
       "    </tr>\n",
       "  </tbody>\n",
       "</table>\n",
       "</div>"
      ],
      "text/plain": [
       "  data.1027.symbol  data.1027.rank  data.1027.total_supply  \\\n",
       "0              ETH               2               119176482   \n",
       "\n",
       "   data.1027.quotes.USD.price  data.1027.quotes.USD.volume_24h  \\\n",
       "0                     3334.65                       8538604089   \n",
       "\n",
       "   data.1027.quotes.USD.market_cap  data.1027.quotes.USD.percentage_change_1h  \\\n",
       "0                     397096653751                                   0.039744   \n",
       "\n",
       "   data.1027.quotes.USD.percentage_change_24h  \\\n",
       "0                                    0.570926   \n",
       "\n",
       "   data.1027.quotes.USD.percentage_change_7d  \\\n",
       "0                                   7.533248   \n",
       "\n",
       "   data.1027.quotes.USD.percent_change_1h  \\\n",
       "0                                0.039744   \n",
       "\n",
       "   data.1027.quotes.USD.percent_change_24h  \\\n",
       "0                                 0.570926   \n",
       "\n",
       "   data.1027.quotes.USD.percent_change_7d  data.1027.last_updated  \\\n",
       "0                                7.533248              1642293383   \n",
       "\n",
       "   metadata.timestamp  metadata.num_cryptocurrencies metadata.error  \n",
       "0          1642293383                           3105           None  "
      ]
     },
     "execution_count": 42,
     "metadata": {},
     "output_type": "execute_result"
    }
   ],
   "source": [
    "eth_df.head()"
   ]
  },
  {
   "cell_type": "code",
   "execution_count": 43,
   "id": "2c79cc96",
   "metadata": {},
   "outputs": [],
   "source": [
    "\n",
    "btc_df = pd.json_normalize(response)\n",
    "btc_df = pd.DataFrame(btc_df)\n",
    "btc_df = btc_df.drop(columns=['data.1.quotes.USD.percent_change_1h', 'data.1.quotes.USD.percentage_change_7d', 'data.1.quotes.USD.percentage_change_24h', 'data.1.quotes.USD.percentage_change_1h', 'data.1.id', 'data.1.max_supply', 'data.1.total_supply', 'data.1.circulating_supply', 'data.1.rank', 'data.1.website_slug', 'data.1.name', 'metadata.error', 'metadata.num_cryptocurrencies', 'metadata.timestamp', 'data.1.last_updated', 'data.1.last_updated', 'data.1.quotes.USD.volume_24h'])"
   ]
  },
  {
   "cell_type": "code",
   "execution_count": 31,
   "id": "f4ee1848",
   "metadata": {},
   "outputs": [
    {
     "data": {
      "text/html": [
       "<div>\n",
       "<style scoped>\n",
       "    .dataframe tbody tr th:only-of-type {\n",
       "        vertical-align: middle;\n",
       "    }\n",
       "\n",
       "    .dataframe tbody tr th {\n",
       "        vertical-align: top;\n",
       "    }\n",
       "\n",
       "    .dataframe thead th {\n",
       "        text-align: right;\n",
       "    }\n",
       "</style>\n",
       "<table border=\"1\" class=\"dataframe\">\n",
       "  <thead>\n",
       "    <tr style=\"text-align: right;\">\n",
       "      <th></th>\n",
       "      <th>data.1.id</th>\n",
       "      <th>data.1.symbol</th>\n",
       "      <th>data.1.quotes.USD.price</th>\n",
       "      <th>data.1.quotes.USD.market_cap</th>\n",
       "      <th>data.1.quotes.USD.percentage_change_1h</th>\n",
       "      <th>data.1.quotes.USD.percentage_change_24h</th>\n",
       "      <th>data.1.quotes.USD.percentage_change_7d</th>\n",
       "      <th>data.1.quotes.USD.percent_change_1h</th>\n",
       "      <th>data.1.quotes.USD.percent_change_24h</th>\n",
       "      <th>data.1.quotes.USD.percent_change_7d</th>\n",
       "    </tr>\n",
       "  </thead>\n",
       "  <tbody>\n",
       "    <tr>\n",
       "      <th>0</th>\n",
       "      <td>1</td>\n",
       "      <td>BTC</td>\n",
       "      <td>43408.0</td>\n",
       "      <td>821259432064</td>\n",
       "      <td>0.137154</td>\n",
       "      <td>0.59913</td>\n",
       "      <td>4.528587</td>\n",
       "      <td>0.137154</td>\n",
       "      <td>0.59913</td>\n",
       "      <td>4.528587</td>\n",
       "    </tr>\n",
       "  </tbody>\n",
       "</table>\n",
       "</div>"
      ],
      "text/plain": [
       "   data.1.id data.1.symbol  data.1.quotes.USD.price  \\\n",
       "0          1           BTC                  43408.0   \n",
       "\n",
       "   data.1.quotes.USD.market_cap  data.1.quotes.USD.percentage_change_1h  \\\n",
       "0                  821259432064                                0.137154   \n",
       "\n",
       "   data.1.quotes.USD.percentage_change_24h  \\\n",
       "0                                  0.59913   \n",
       "\n",
       "   data.1.quotes.USD.percentage_change_7d  \\\n",
       "0                                4.528587   \n",
       "\n",
       "   data.1.quotes.USD.percent_change_1h  data.1.quotes.USD.percent_change_24h  \\\n",
       "0                             0.137154                               0.59913   \n",
       "\n",
       "   data.1.quotes.USD.percent_change_7d  \n",
       "0                             4.528587  "
      ]
     },
     "execution_count": 31,
     "metadata": {},
     "output_type": "execute_result"
    }
   ],
   "source": [
    "btc_df.head()"
   ]
  },
  {
   "cell_type": "code",
   "execution_count": 38,
   "id": "0dc289e1",
   "metadata": {},
   "outputs": [
    {
     "ename": "KeyError",
     "evalue": "('data.1.quotes.USD.price', 'data.1.quotes.USD.price')",
     "output_type": "error",
     "traceback": [
      "\u001b[1;31m---------------------------------------------------------------------------\u001b[0m",
      "\u001b[1;31mKeyError\u001b[0m                                  Traceback (most recent call last)",
      "\u001b[1;32m~\\anaconda4\\envs\\pyvizenv\\lib\\site-packages\\pandas\\core\\indexes\\base.py\u001b[0m in \u001b[0;36mget_loc\u001b[1;34m(self, key, method, tolerance)\u001b[0m\n\u001b[0;32m   3360\u001b[0m             \u001b[1;32mtry\u001b[0m\u001b[1;33m:\u001b[0m\u001b[1;33m\u001b[0m\u001b[1;33m\u001b[0m\u001b[0m\n\u001b[1;32m-> 3361\u001b[1;33m                 \u001b[1;32mreturn\u001b[0m \u001b[0mself\u001b[0m\u001b[1;33m.\u001b[0m\u001b[0m_engine\u001b[0m\u001b[1;33m.\u001b[0m\u001b[0mget_loc\u001b[0m\u001b[1;33m(\u001b[0m\u001b[0mcasted_key\u001b[0m\u001b[1;33m)\u001b[0m\u001b[1;33m\u001b[0m\u001b[1;33m\u001b[0m\u001b[0m\n\u001b[0m\u001b[0;32m   3362\u001b[0m             \u001b[1;32mexcept\u001b[0m \u001b[0mKeyError\u001b[0m \u001b[1;32mas\u001b[0m \u001b[0merr\u001b[0m\u001b[1;33m:\u001b[0m\u001b[1;33m\u001b[0m\u001b[1;33m\u001b[0m\u001b[0m\n",
      "\u001b[1;32m~\\anaconda4\\envs\\pyvizenv\\lib\\site-packages\\pandas\\_libs\\index.pyx\u001b[0m in \u001b[0;36mpandas._libs.index.IndexEngine.get_loc\u001b[1;34m()\u001b[0m\n",
      "\u001b[1;32m~\\anaconda4\\envs\\pyvizenv\\lib\\site-packages\\pandas\\_libs\\index.pyx\u001b[0m in \u001b[0;36mpandas._libs.index.IndexEngine.get_loc\u001b[1;34m()\u001b[0m\n",
      "\u001b[1;32mpandas\\_libs\\hashtable_class_helper.pxi\u001b[0m in \u001b[0;36mpandas._libs.hashtable.PyObjectHashTable.get_item\u001b[1;34m()\u001b[0m\n",
      "\u001b[1;32mpandas\\_libs\\hashtable_class_helper.pxi\u001b[0m in \u001b[0;36mpandas._libs.hashtable.PyObjectHashTable.get_item\u001b[1;34m()\u001b[0m\n",
      "\u001b[1;31mKeyError\u001b[0m: ('data.1.quotes.USD.price', 'data.1.quotes.USD.price')",
      "\nThe above exception was the direct cause of the following exception:\n",
      "\u001b[1;31mKeyError\u001b[0m                                  Traceback (most recent call last)",
      "\u001b[1;32m~\\AppData\\Local\\Temp/ipykernel_37504/160359496.py\u001b[0m in \u001b[0;36m<module>\u001b[1;34m\u001b[0m\n\u001b[1;32m----> 1\u001b[1;33m \u001b[0mbtc_df\u001b[0m \u001b[1;33m=\u001b[0m \u001b[0mbtc_df\u001b[0m\u001b[1;33m[\u001b[0m\u001b[1;33m(\u001b[0m\u001b[1;34m'data.1.quotes.USD.price'\u001b[0m\u001b[1;33m,\u001b[0m \u001b[1;34m'data.1.quotes.USD.price'\u001b[0m\u001b[1;33m)\u001b[0m\u001b[1;33m]\u001b[0m\u001b[1;33m\u001b[0m\u001b[1;33m\u001b[0m\u001b[0m\n\u001b[0m",
      "\u001b[1;32m~\\anaconda4\\envs\\pyvizenv\\lib\\site-packages\\pandas\\core\\frame.py\u001b[0m in \u001b[0;36m__getitem__\u001b[1;34m(self, key)\u001b[0m\n\u001b[0;32m   3456\u001b[0m             \u001b[1;32mif\u001b[0m \u001b[0mself\u001b[0m\u001b[1;33m.\u001b[0m\u001b[0mcolumns\u001b[0m\u001b[1;33m.\u001b[0m\u001b[0mnlevels\u001b[0m \u001b[1;33m>\u001b[0m \u001b[1;36m1\u001b[0m\u001b[1;33m:\u001b[0m\u001b[1;33m\u001b[0m\u001b[1;33m\u001b[0m\u001b[0m\n\u001b[0;32m   3457\u001b[0m                 \u001b[1;32mreturn\u001b[0m \u001b[0mself\u001b[0m\u001b[1;33m.\u001b[0m\u001b[0m_getitem_multilevel\u001b[0m\u001b[1;33m(\u001b[0m\u001b[0mkey\u001b[0m\u001b[1;33m)\u001b[0m\u001b[1;33m\u001b[0m\u001b[1;33m\u001b[0m\u001b[0m\n\u001b[1;32m-> 3458\u001b[1;33m             \u001b[0mindexer\u001b[0m \u001b[1;33m=\u001b[0m \u001b[0mself\u001b[0m\u001b[1;33m.\u001b[0m\u001b[0mcolumns\u001b[0m\u001b[1;33m.\u001b[0m\u001b[0mget_loc\u001b[0m\u001b[1;33m(\u001b[0m\u001b[0mkey\u001b[0m\u001b[1;33m)\u001b[0m\u001b[1;33m\u001b[0m\u001b[1;33m\u001b[0m\u001b[0m\n\u001b[0m\u001b[0;32m   3459\u001b[0m             \u001b[1;32mif\u001b[0m \u001b[0mis_integer\u001b[0m\u001b[1;33m(\u001b[0m\u001b[0mindexer\u001b[0m\u001b[1;33m)\u001b[0m\u001b[1;33m:\u001b[0m\u001b[1;33m\u001b[0m\u001b[1;33m\u001b[0m\u001b[0m\n\u001b[0;32m   3460\u001b[0m                 \u001b[0mindexer\u001b[0m \u001b[1;33m=\u001b[0m \u001b[1;33m[\u001b[0m\u001b[0mindexer\u001b[0m\u001b[1;33m]\u001b[0m\u001b[1;33m\u001b[0m\u001b[1;33m\u001b[0m\u001b[0m\n",
      "\u001b[1;32m~\\anaconda4\\envs\\pyvizenv\\lib\\site-packages\\pandas\\core\\indexes\\base.py\u001b[0m in \u001b[0;36mget_loc\u001b[1;34m(self, key, method, tolerance)\u001b[0m\n\u001b[0;32m   3361\u001b[0m                 \u001b[1;32mreturn\u001b[0m \u001b[0mself\u001b[0m\u001b[1;33m.\u001b[0m\u001b[0m_engine\u001b[0m\u001b[1;33m.\u001b[0m\u001b[0mget_loc\u001b[0m\u001b[1;33m(\u001b[0m\u001b[0mcasted_key\u001b[0m\u001b[1;33m)\u001b[0m\u001b[1;33m\u001b[0m\u001b[1;33m\u001b[0m\u001b[0m\n\u001b[0;32m   3362\u001b[0m             \u001b[1;32mexcept\u001b[0m \u001b[0mKeyError\u001b[0m \u001b[1;32mas\u001b[0m \u001b[0merr\u001b[0m\u001b[1;33m:\u001b[0m\u001b[1;33m\u001b[0m\u001b[1;33m\u001b[0m\u001b[0m\n\u001b[1;32m-> 3363\u001b[1;33m                 \u001b[1;32mraise\u001b[0m \u001b[0mKeyError\u001b[0m\u001b[1;33m(\u001b[0m\u001b[0mkey\u001b[0m\u001b[1;33m)\u001b[0m \u001b[1;32mfrom\u001b[0m \u001b[0merr\u001b[0m\u001b[1;33m\u001b[0m\u001b[1;33m\u001b[0m\u001b[0m\n\u001b[0m\u001b[0;32m   3364\u001b[0m \u001b[1;33m\u001b[0m\u001b[0m\n\u001b[0;32m   3365\u001b[0m         \u001b[1;32mif\u001b[0m \u001b[0mis_scalar\u001b[0m\u001b[1;33m(\u001b[0m\u001b[0mkey\u001b[0m\u001b[1;33m)\u001b[0m \u001b[1;32mand\u001b[0m \u001b[0misna\u001b[0m\u001b[1;33m(\u001b[0m\u001b[0mkey\u001b[0m\u001b[1;33m)\u001b[0m \u001b[1;32mand\u001b[0m \u001b[1;32mnot\u001b[0m \u001b[0mself\u001b[0m\u001b[1;33m.\u001b[0m\u001b[0mhasnans\u001b[0m\u001b[1;33m:\u001b[0m\u001b[1;33m\u001b[0m\u001b[1;33m\u001b[0m\u001b[0m\n",
      "\u001b[1;31mKeyError\u001b[0m: ('data.1.quotes.USD.price', 'data.1.quotes.USD.price')"
     ]
    }
   ],
   "source": [
    "btc_df = btc_df[('data.1.quotes.USD.price', 'data.1.quotes.USD.price')].str.containsws"
   ]
  },
  {
   "cell_type": "code",
   "execution_count": 32,
   "id": "5eac1e0a",
   "metadata": {},
   "outputs": [
    {
     "name": "stdout",
     "output_type": "stream",
     "text": [
      "\n",
      "INSTALLED VERSIONS\n",
      "------------------\n",
      "commit           : 66e3805b8cabe977f40c05259cc3fcf7ead5687d\n",
      "python           : 3.7.11.final.0\n",
      "python-bits      : 64\n",
      "OS               : Windows\n",
      "OS-release       : 10\n",
      "Version          : 10.0.19041\n",
      "machine          : AMD64\n",
      "processor        : Intel64 Family 6 Model 165 Stepping 5, GenuineIntel\n",
      "byteorder        : little\n",
      "LC_ALL           : None\n",
      "LANG             : en_US.UTF-8\n",
      "LOCALE           : None.None\n",
      "\n",
      "pandas           : 1.3.5\n",
      "numpy            : 1.19.0\n",
      "pytz             : 2021.3\n",
      "dateutil         : 2.8.2\n",
      "pip              : 21.2.4\n",
      "setuptools       : 58.0.4\n",
      "Cython           : 0.29.25\n",
      "pytest           : 6.2.4\n",
      "hypothesis       : None\n",
      "sphinx           : 4.2.0\n",
      "blosc            : None\n",
      "feather          : None\n",
      "xlsxwriter       : 3.0.2\n",
      "lxml.etree       : 4.7.1\n",
      "html5lib         : 1.1\n",
      "pymysql          : None\n",
      "psycopg2         : None\n",
      "jinja2           : 2.11.3\n",
      "IPython          : 7.29.0\n",
      "pandas_datareader: None\n",
      "bs4              : 4.10.0\n",
      "bottleneck       : 1.3.2\n",
      "fsspec           : 2021.10.1\n",
      "fastparquet      : 0.4.0\n",
      "gcsfs            : None\n",
      "matplotlib       : 3.0.3\n",
      "numexpr          : 2.8.1\n",
      "odfpy            : None\n",
      "openpyxl         : 3.0.9\n",
      "pandas_gbq       : None\n",
      "pyarrow          : None\n",
      "pyxlsb           : None\n",
      "s3fs             : None\n",
      "scipy            : 1.7.3\n",
      "sqlalchemy       : 1.4.27\n",
      "tables           : 3.6.1\n",
      "tabulate         : None\n",
      "xarray           : 0.20.1\n",
      "xlrd             : 2.0.1\n",
      "xlwt             : 1.3.0\n",
      "numba            : 0.54.1\n"
     ]
    }
   ],
   "source": [
    "pd.show_versions(as_json=False)"
   ]
  },
  {
   "cell_type": "code",
   "execution_count": 319,
   "id": "ac17d4b7",
   "metadata": {},
   "outputs": [
    {
     "data": {
      "text/html": [
       "<div>\n",
       "<style scoped>\n",
       "    .dataframe tbody tr th:only-of-type {\n",
       "        vertical-align: middle;\n",
       "    }\n",
       "\n",
       "    .dataframe tbody tr th {\n",
       "        vertical-align: top;\n",
       "    }\n",
       "\n",
       "    .dataframe thead th {\n",
       "        text-align: right;\n",
       "    }\n",
       "</style>\n",
       "<table border=\"1\" class=\"dataframe\">\n",
       "  <thead>\n",
       "    <tr style=\"text-align: right;\">\n",
       "      <th></th>\n",
       "      <th>data.1027.id</th>\n",
       "      <th>data.1027.name</th>\n",
       "      <th>data.1027.symbol</th>\n",
       "      <th>data.1027.website_slug</th>\n",
       "      <th>data.1027.rank</th>\n",
       "      <th>data.1027.circulating_supply</th>\n",
       "      <th>data.1027.total_supply</th>\n",
       "      <th>data.1027.max_supply</th>\n",
       "      <th>data.1027.quotes.USD.price</th>\n",
       "      <th>data.1027.quotes.USD.volume_24h</th>\n",
       "      <th>...</th>\n",
       "      <th>data.1027.quotes.USD.percentage_change_1h</th>\n",
       "      <th>data.1027.quotes.USD.percentage_change_24h</th>\n",
       "      <th>data.1027.quotes.USD.percentage_change_7d</th>\n",
       "      <th>data.1027.quotes.USD.percent_change_1h</th>\n",
       "      <th>data.1027.quotes.USD.percent_change_24h</th>\n",
       "      <th>data.1027.quotes.USD.percent_change_7d</th>\n",
       "      <th>data.1027.last_updated</th>\n",
       "      <th>metadata.timestamp</th>\n",
       "      <th>metadata.num_cryptocurrencies</th>\n",
       "      <th>metadata.error</th>\n",
       "    </tr>\n",
       "  </thead>\n",
       "  <tbody>\n",
       "    <tr>\n",
       "      <th>0</th>\n",
       "      <td>1027</td>\n",
       "      <td>Ethereum</td>\n",
       "      <td>ETH</td>\n",
       "      <td>ethereum</td>\n",
       "      <td>2</td>\n",
       "      <td>119164958</td>\n",
       "      <td>119164958</td>\n",
       "      <td>0</td>\n",
       "      <td>3301.16</td>\n",
       "      <td>11692277715</td>\n",
       "      <td>...</td>\n",
       "      <td>-0.779339</td>\n",
       "      <td>0.439368</td>\n",
       "      <td>3.103424</td>\n",
       "      <td>-0.779339</td>\n",
       "      <td>0.439368</td>\n",
       "      <td>3.103424</td>\n",
       "      <td>1642220921</td>\n",
       "      <td>1642220921</td>\n",
       "      <td>3105</td>\n",
       "      <td>None</td>\n",
       "    </tr>\n",
       "  </tbody>\n",
       "</table>\n",
       "<p>1 rows × 21 columns</p>\n",
       "</div>"
      ],
      "text/plain": [
       "   data.1027.id data.1027.name data.1027.symbol data.1027.website_slug  \\\n",
       "0          1027       Ethereum              ETH               ethereum   \n",
       "\n",
       "   data.1027.rank  data.1027.circulating_supply  data.1027.total_supply  \\\n",
       "0               2                     119164958               119164958   \n",
       "\n",
       "   data.1027.max_supply  data.1027.quotes.USD.price  \\\n",
       "0                     0                     3301.16   \n",
       "\n",
       "   data.1027.quotes.USD.volume_24h  ...  \\\n",
       "0                      11692277715  ...   \n",
       "\n",
       "   data.1027.quotes.USD.percentage_change_1h  \\\n",
       "0                                  -0.779339   \n",
       "\n",
       "   data.1027.quotes.USD.percentage_change_24h  \\\n",
       "0                                    0.439368   \n",
       "\n",
       "   data.1027.quotes.USD.percentage_change_7d  \\\n",
       "0                                   3.103424   \n",
       "\n",
       "   data.1027.quotes.USD.percent_change_1h  \\\n",
       "0                               -0.779339   \n",
       "\n",
       "   data.1027.quotes.USD.percent_change_24h  \\\n",
       "0                                 0.439368   \n",
       "\n",
       "   data.1027.quotes.USD.percent_change_7d  data.1027.last_updated  \\\n",
       "0                                3.103424              1642220921   \n",
       "\n",
       "   metadata.timestamp  metadata.num_cryptocurrencies  metadata.error  \n",
       "0          1642220921                           3105            None  \n",
       "\n",
       "[1 rows x 21 columns]"
      ]
     },
     "execution_count": 319,
     "metadata": {},
     "output_type": "execute_result"
    }
   ],
   "source": [
    "eth_df"
   ]
  },
  {
   "cell_type": "code",
   "execution_count": 311,
   "id": "97e429f7",
   "metadata": {},
   "outputs": [
    {
     "ename": "SyntaxError",
     "evalue": "invalid syntax (Temp/ipykernel_64640/2873296125.py, line 1)",
     "output_type": "error",
     "traceback": [
      "\u001b[1;36m  File \u001b[1;32m\"C:\\Users\\penti\\AppData\\Local\\Temp/ipykernel_64640/2873296125.py\"\u001b[1;36m, line \u001b[1;32m1\u001b[0m\n\u001b[1;33m    |\u001b[0m\n\u001b[1;37m    ^\u001b[0m\n\u001b[1;31mSyntaxError\u001b[0m\u001b[1;31m:\u001b[0m invalid syntax\n"
     ]
    }
   ],
   "source": [
    "|\n"
   ]
  },
  {
   "cell_type": "code",
   "execution_count": null,
   "id": "49dc6728",
   "metadata": {},
   "outputs": [],
   "source": []
  }
 ],
 "metadata": {
  "kernelspec": {
   "display_name": "Python 3 (ipykernel)",
   "language": "python",
   "name": "python3"
  },
  "language_info": {
   "codemirror_mode": {
    "name": "ipython",
    "version": 3
   },
   "file_extension": ".py",
   "mimetype": "text/x-python",
   "name": "python",
   "nbconvert_exporter": "python",
   "pygments_lexer": "ipython3",
   "version": "3.7.11"
  }
 },
 "nbformat": 4,
 "nbformat_minor": 5
}
